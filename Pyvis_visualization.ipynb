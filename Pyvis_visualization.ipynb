{
 "cells": [
  {
   "cell_type": "markdown",
   "metadata": {},
   "source": [
    "### <span style=\"color:tomato\">Graph Pyvis visualization</span>"
   ]
  },
  {
   "cell_type": "code",
   "execution_count": null,
   "metadata": {},
   "outputs": [],
   "source": [
    "# setup\n",
    "%pip install streamlit\n",
    "%pip install pyvis\n",
    "%pip install pytest"
   ]
  },
  {
   "cell_type": "code",
   "execution_count": 2,
   "metadata": {},
   "outputs": [],
   "source": [
    "# imports\n",
    "import pandas as pd\n",
    "import numpy as np\n",
    "import networkx as nx\n",
    "from pyvis.network import Network\n",
    "import matplotlib.pyplot as plt"
   ]
  },
  {
   "cell_type": "code",
   "execution_count": 6,
   "metadata": {},
   "outputs": [
    {
     "name": "stdout",
     "output_type": "stream",
     "text": [
      "                                                             objectID      tool          notebook                                                                                                                                                                                                                                                                                    action                                               tags              author                                    author_url updated_at created_at                                                                                                                                                            description                                                                                                                                                             open_in_lab open_in_chat                                                                                            notebook_url                   imports                                                                                                  image_url\n",
      "160  ec42b7671812e53369957d3aed72789a828f597c008d8b93070df4e423e92c8c  Forecast  List all clients  <a href=\"https://app.naas.ai/user-redirect/naas/downloader?url=https://raw.githubusercontent.com/jupyter-naas/awesome-notebooks/master/Forecast/Forecast_List_all_clients.ipynb\" target=\"_parent\"><img src=\"https://naasai-public.s3.eu-west-3.amazonaws.com/Open_in_Naas_Lab.svg\"/></a>  [#forecast, #clients, #api, #list, #python, #get]  Landry Christensen              https://github.com/lchristensen6 2023-08-08 2023-08-08  This notebook will list all clients from the forecast API. Forecast is a service that connects to harvest and allows you to plan for allocations to harvest projects.  https://app.naas.ai/user-redirect/naas/downloader?url=https://raw.githubusercontent.com/jupyter-naas/awesome-notebooks/master/Forecast/Forecast_List_all_clients.ipynb               https://github.com/jupyter-naas/awesome-notebooks/blob/master/Forecast/Forecast_List_all_clients.ipynb  [requests, pandas, naas]  https://raw.githubusercontent.com/jupyter-naas/awesome-notebooks/master/.github/assets/logos/Forecast.png\n",
      "310  8a1dc783cc49a4f89c466a896cc8ec97d86bf1efd9a5f1b945cf97a3d73c3e27   Harvest  List all clients    <a href=\"https://app.naas.ai/user-redirect/naas/downloader?url=https://raw.githubusercontent.com/jupyter-naas/awesome-notebooks/master/Harvest/Harvest_List_all_clients.ipynb\" target=\"_parent\"><img src=\"https://naasai-public.s3.eu-west-3.amazonaws.com/Open_in_Naas_Lab.svg\"/></a>   [#harvest, #clients, #api, #list, #python, #get]     Florent Ravenel  https://www.linkedin.com/in/florent-ravenel/ 2023-06-16 2023-06-13                                                  This notebook will list all clients from Harvest API and is usefull for organizations to get a list of their clients.    https://app.naas.ai/user-redirect/naas/downloader?url=https://raw.githubusercontent.com/jupyter-naas/awesome-notebooks/master/Harvest/Harvest_List_all_clients.ipynb                 https://github.com/jupyter-naas/awesome-notebooks/blob/master/Harvest/Harvest_List_all_clients.ipynb  [requests, pandas, naas]   https://raw.githubusercontent.com/jupyter-naas/awesome-notebooks/master/.github/assets/logos/Harvest.png\n"
     ]
    }
   ],
   "source": [
    "# Pull in data\n",
    "file = \"templates.json\"\n",
    "df_temp = pd.read_json(file)\n",
    "df_temp.head(2)\n",
    "pd.set_option('display.max_colwidth', None)\n",
    "print(df_temp[df_temp['notebook']=='List all clients'].to_string())"
   ]
  },
  {
   "cell_type": "code",
   "execution_count": 4,
   "metadata": {},
   "outputs": [
    {
     "name": "stdout",
     "output_type": "stream",
     "text": [
      "Dataframe created successfully!\n"
     ]
    }
   ],
   "source": [
    "if isinstance(df_temp, pd.DataFrame) and len(df_temp.columns) > 0 and len(df_temp) > 0:\n",
    "    print(\"Dataframe created successfully!\")\n",
    "else:\n",
    "    print(\"Something went wrong with the data import.\")\n",
    "    df = None"
   ]
  },
  {
   "cell_type": "code",
   "execution_count": 5,
   "metadata": {},
   "outputs": [],
   "source": [
    "# Initializing the Pyvis network\n",
    "net=Network(height='100%', width='100%', bgcolor='#222222', font_color='white')\n",
    "\n",
    "# Physics solver\n",
    "net.force_atlas_2based()\n",
    "\n",
    "# Getting data\n",
    "tools = list(df_temp['tool'])\n",
    "images = list(df_temp['image_url'])\n",
    "notebooks = list(df_temp['notebook'])\n",
    "\n",
    "# Creating a dictionary of tool and image\n",
    "tool_img = dict(zip(tools, images))\n",
    "\n",
    "# Adding tool nodes\n",
    "for tool in tools:\n",
    "    if tool == 'Naas':\n",
    "        net.add_node(tool, title=tool, image=tool_img[tool],shape='image',size=150)\n",
    "    else:\n",
    "        net.add_node(tool, title=tool, image=tool_img[tool], shape='image',size=60)\n",
    "\n",
    "# Adding notebook nodes\n",
    "for notebook in notebooks:\n",
    "    #net.add_node(notebook, title=notebook, notebook_urls=notebook_urls[notebooks.index(notebook)])\n",
    "    net.add_node(notebook, title=notebook, color='#4d94db', size=30)\n",
    "    net.get_node(notebook)['physics']=False\n",
    "\n",
    "# Adding edges\n",
    "for _, edge in df_temp.iterrows():\n",
    "    net.add_edge(edge['tool'], edge['notebook'], title=edge['action'])\n",
    "    net.add_edge(edge['notebook'], edge['tool'], title=edge['action'])"
   ]
  },
  {
   "cell_type": "markdown",
   "metadata": {},
   "source": [
    "### <span style=\"color:tomato\">UI settings & net to HTML</span>"
   ]
  },
  {
   "cell_type": "code",
   "execution_count": 6,
   "metadata": {},
   "outputs": [],
   "source": [
    "\n",
    "# net.show_buttons(filter_=['physics'])\n",
    "# net.toggle_physics(False)\n",
    "net.write_html('naas_graph.html.html')"
   ]
  },
  {
   "cell_type": "markdown",
   "metadata": {},
   "source": [
    "### <span style=\"color:tomato\">Logos sanity check</span>"
   ]
  },
  {
   "cell_type": "code",
   "execution_count": 7,
   "metadata": {},
   "outputs": [
    {
     "name": "stdout",
     "output_type": "stream",
     "text": [
      "TOOLS WITH WRONG(?) Naas LOGO:\n",
      "\n",
      "BigQuery https://raw.githubusercontent.com/jupyter-naas/awesome-notebooks/master/.github/assets/logos/Naas.png\n",
      "BigQuery https://raw.githubusercontent.com/jupyter-naas/awesome-notebooks/master/.github/assets/logos/Naas.png\n",
      "Celestrak https://raw.githubusercontent.com/jupyter-naas/awesome-notebooks/master/.github/assets/logos/Naas.png\n",
      "Google Calendar https://raw.githubusercontent.com/jupyter-naas/awesome-notebooks/master/.github/assets/logos/Naas.png\n",
      "Google Calendar https://raw.githubusercontent.com/jupyter-naas/awesome-notebooks/master/.github/assets/logos/Naas.png\n",
      "Google Calendar https://raw.githubusercontent.com/jupyter-naas/awesome-notebooks/master/.github/assets/logos/Naas.png\n",
      "Google Slides https://raw.githubusercontent.com/jupyter-naas/awesome-notebooks/master/.github/assets/logos/Naas.png\n",
      "Google Slides https://raw.githubusercontent.com/jupyter-naas/awesome-notebooks/master/.github/assets/logos/Naas.png\n",
      "Google Slides https://raw.githubusercontent.com/jupyter-naas/awesome-notebooks/master/.github/assets/logos/Naas.png\n",
      "Google Slides https://raw.githubusercontent.com/jupyter-naas/awesome-notebooks/master/.github/assets/logos/Naas.png\n",
      "Google Slides https://raw.githubusercontent.com/jupyter-naas/awesome-notebooks/master/.github/assets/logos/Naas.png\n",
      "HTML https://raw.githubusercontent.com/jupyter-naas/awesome-notebooks/master/.github/assets/logos/Naas.png\n",
      "IPyWidgets https://raw.githubusercontent.com/jupyter-naas/awesome-notebooks/master/.github/assets/logos/Naas.png\n",
      "IPyWidgets https://raw.githubusercontent.com/jupyter-naas/awesome-notebooks/master/.github/assets/logos/Naas.png\n",
      "IPyWidgets https://raw.githubusercontent.com/jupyter-naas/awesome-notebooks/master/.github/assets/logos/Naas.png\n",
      "LinkedIn Sales Navigator https://raw.githubusercontent.com/jupyter-naas/awesome-notebooks/master/.github/assets/logos/Naas.png\n",
      "LinkedIn Sales Navigator https://raw.githubusercontent.com/jupyter-naas/awesome-notebooks/master/.github/assets/logos/Naas.png\n",
      "Microsoft Teams https://raw.githubusercontent.com/jupyter-naas/awesome-notebooks/master/.github/assets/logos/Naas.png\n",
      "Microsoft Word https://raw.githubusercontent.com/jupyter-naas/awesome-notebooks/master/.github/assets/logos/Naas.png\n",
      "MoviePy https://raw.githubusercontent.com/jupyter-naas/awesome-notebooks/master/.github/assets/logos/Naas.png\n",
      "MySQL https://raw.githubusercontent.com/jupyter-naas/awesome-notebooks/master/.github/assets/logos/Naas.png\n",
      "Naas Dashboard https://raw.githubusercontent.com/jupyter-naas/awesome-notebooks/master/.github/assets/logos/Naas.png\n",
      "Naas Dashboard https://raw.githubusercontent.com/jupyter-naas/awesome-notebooks/master/.github/assets/logos/Naas.png\n",
      "Naas Dashboard https://raw.githubusercontent.com/jupyter-naas/awesome-notebooks/master/.github/assets/logos/Naas.png\n",
      "OpenAlex https://raw.githubusercontent.com/jupyter-naas/awesome-notebooks/master/.github/assets/logos/Naas.png\n",
      "OpenAlex https://raw.githubusercontent.com/jupyter-naas/awesome-notebooks/master/.github/assets/logos/Naas.png\n",
      "OpenAlex https://raw.githubusercontent.com/jupyter-naas/awesome-notebooks/master/.github/assets/logos/Naas.png\n",
      "OpenAlex https://raw.githubusercontent.com/jupyter-naas/awesome-notebooks/master/.github/assets/logos/Naas.png\n",
      "OpenAlex https://raw.githubusercontent.com/jupyter-naas/awesome-notebooks/master/.github/assets/logos/Naas.png\n",
      "OpenAlex https://raw.githubusercontent.com/jupyter-naas/awesome-notebooks/master/.github/assets/logos/Naas.png\n",
      "OpenAlex https://raw.githubusercontent.com/jupyter-naas/awesome-notebooks/master/.github/assets/logos/Naas.png\n",
      "OpenPIV https://raw.githubusercontent.com/jupyter-naas/awesome-notebooks/master/.github/assets/logos/Naas.png\n",
      "PDF https://raw.githubusercontent.com/jupyter-naas/awesome-notebooks/master/.github/assets/logos/Naas.png\n",
      "PDF https://raw.githubusercontent.com/jupyter-naas/awesome-notebooks/master/.github/assets/logos/Naas.png\n",
      "PDF https://raw.githubusercontent.com/jupyter-naas/awesome-notebooks/master/.github/assets/logos/Naas.png\n",
      "Pandasql https://raw.githubusercontent.com/jupyter-naas/awesome-notebooks/master/.github/assets/logos/Naas.png\n",
      "Pandasql https://raw.githubusercontent.com/jupyter-naas/awesome-notebooks/master/.github/assets/logos/Naas.png\n",
      "Pandasql https://raw.githubusercontent.com/jupyter-naas/awesome-notebooks/master/.github/assets/logos/Naas.png\n",
      "PowerPoint https://raw.githubusercontent.com/jupyter-naas/awesome-notebooks/master/.github/assets/logos/Naas.png\n",
      "PowerPoint https://raw.githubusercontent.com/jupyter-naas/awesome-notebooks/master/.github/assets/logos/Naas.png\n",
      "PowerPoint https://raw.githubusercontent.com/jupyter-naas/awesome-notebooks/master/.github/assets/logos/Naas.png\n",
      "PowerPoint https://raw.githubusercontent.com/jupyter-naas/awesome-notebooks/master/.github/assets/logos/Naas.png\n",
      "PowerPoint https://raw.githubusercontent.com/jupyter-naas/awesome-notebooks/master/.github/assets/logos/Naas.png\n",
      "PowerPoint https://raw.githubusercontent.com/jupyter-naas/awesome-notebooks/master/.github/assets/logos/Naas.png\n",
      "PyGWalker https://raw.githubusercontent.com/jupyter-naas/awesome-notebooks/master/.github/assets/logos/Naas.png\n",
      "Quandl https://raw.githubusercontent.com/jupyter-naas/awesome-notebooks/master/.github/assets/logos/Naas.png\n",
      "Quandl https://raw.githubusercontent.com/jupyter-naas/awesome-notebooks/master/.github/assets/logos/Naas.png\n",
      "WAQI https://raw.githubusercontent.com/jupyter-naas/awesome-notebooks/master/.github/assets/logos/Naas.png\n",
      "WAQI https://raw.githubusercontent.com/jupyter-naas/awesome-notebooks/master/.github/assets/logos/Naas.png\n",
      "WAQI https://raw.githubusercontent.com/jupyter-naas/awesome-notebooks/master/.github/assets/logos/Naas.png\n",
      "WAQI https://raw.githubusercontent.com/jupyter-naas/awesome-notebooks/master/.github/assets/logos/Naas.png\n",
      "WAQI https://raw.githubusercontent.com/jupyter-naas/awesome-notebooks/master/.github/assets/logos/Naas.png\n",
      "WSR https://raw.githubusercontent.com/jupyter-naas/awesome-notebooks/master/.github/assets/logos/Naas.png\n",
      "WSR https://raw.githubusercontent.com/jupyter-naas/awesome-notebooks/master/.github/assets/logos/Naas.png\n",
      "WSR https://raw.githubusercontent.com/jupyter-naas/awesome-notebooks/master/.github/assets/logos/Naas.png\n",
      "Wikipedia https://raw.githubusercontent.com/jupyter-naas/awesome-notebooks/master/.github/assets/logos/Naas.png\n",
      "XGBoost https://raw.githubusercontent.com/jupyter-naas/awesome-notebooks/master/.github/assets/logos/Naas.png\n",
      "XML https://raw.githubusercontent.com/jupyter-naas/awesome-notebooks/master/.github/assets/logos/Naas.png\n",
      "gTTS https://raw.githubusercontent.com/jupyter-naas/awesome-notebooks/master/.github/assets/logos/Naas.png\n"
     ]
    }
   ],
   "source": [
    "print(\"TOOLS WITH WRONG(?) Naas LOGO:\\n\")\n",
    "naas_logo = 'https://raw.githubusercontent.com/jupyter-naas/awesome-notebooks/master/.github/assets/logos/Naas.png'\n",
    "\n",
    "for tool in tools:\n",
    "        if tool_img[tool] == naas_logo and tool != 'Naas':\n",
    "            print(tool,tool_img[tool])"
   ]
  }
 ],
 "metadata": {
  "kernelspec": {
   "display_name": "env1",
   "language": "python",
   "name": "python3"
  },
  "language_info": {
   "codemirror_mode": {
    "name": "ipython",
    "version": 3
   },
   "file_extension": ".py",
   "mimetype": "text/x-python",
   "name": "python",
   "nbconvert_exporter": "python",
   "pygments_lexer": "ipython3",
   "version": "3.11.0"
  }
 },
 "nbformat": 4,
 "nbformat_minor": 2
}
